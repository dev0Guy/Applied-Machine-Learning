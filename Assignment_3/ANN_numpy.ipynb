{
 "cells": [
  {
   "cell_type": "markdown",
   "id": "704543a5-e380-4601-8ea0-132e64c7f4e0",
   "metadata": {},
   "source": [
    "# Assignment 3 - MNIST [digit prediction with numpy]"
   ]
  },
  {
   "cell_type": "code",
   "execution_count": 21,
   "id": "60da0548-a32e-47df-a3ce-a2d90d2dcb86",
   "metadata": {},
   "outputs": [],
   "source": [
    "from sklearn.model_selection import train_test_split\n",
    "from sklearn.metrics import roc_auc_score\n",
    "from sklearn.datasets import fetch_openml\n",
    "import matplotlib.pyplot as plt\n",
    "from torch import nn\n",
    "import numpy as np\n",
    "import warnings\n",
    "import torch"
   ]
  },
  {
   "cell_type": "markdown",
   "id": "f22a3211-18a0-4e5d-a20f-33b24bed8845",
   "metadata": {},
   "source": [
    "### Utils Function"
   ]
  },
  {
   "cell_type": "markdown",
   "id": "251030f5-01cc-42af-84d8-370d264e0ab0",
   "metadata": {},
   "source": [
    "First, we will normlize the data for better model convergence"
   ]
  },
  {
   "cell_type": "code",
   "execution_count": 2,
   "id": "2a13c90a-eed0-4e00-8b57-10de8dba0f2c",
   "metadata": {},
   "outputs": [],
   "source": [
    "def normlize_image(X):\n",
    "    return ((X / 255.) - .5) * 2"
   ]
  },
  {
   "cell_type": "markdown",
   "id": "f9568f1e-04c1-4e93-833e-6bf35f86f458",
   "metadata": {},
   "source": [
    "Now, We'll Create activation function and one hot encoder for comparasion reasons"
   ]
  },
  {
   "cell_type": "code",
   "execution_count": 3,
   "id": "23199538-d14f-4cb0-afbd-2b9402ee446e",
   "metadata": {},
   "outputs": [],
   "source": [
    "#suppress warnings\n",
    "warnings.filterwarnings('ignore')"
   ]
  },
  {
   "cell_type": "code",
   "execution_count": 4,
   "id": "fecd4194-001c-491f-8b9e-b8a84b9ffdd0",
   "metadata": {},
   "outputs": [],
   "source": [
    "def sigmoid(z):                                        \n",
    "    return 1. / (1. + np.exp(-z))"
   ]
  },
  {
   "cell_type": "code",
   "execution_count": 5,
   "id": "80d20f07-37ca-4e28-8e5c-14152caafec5",
   "metadata": {},
   "outputs": [],
   "source": [
    "def softmax(x):\n",
    "    max = np.max(x,axis=1,keepdims=True) #returns max of each row and keeps same dims\n",
    "    e_x = np.exp(x - max) #subtracts each row with its max value\n",
    "    sum = np.sum(e_x,axis=1,keepdims=True) #returns sum of each row and keeps same dims\n",
    "    f_x = e_x / sum \n",
    "    return f_x"
   ]
  },
  {
   "cell_type": "code",
   "execution_count": 6,
   "id": "5d7bf5f8-457e-4bb1-aba2-c9577fec8eab",
   "metadata": {},
   "outputs": [],
   "source": [
    "def int_to_onehot(y, num_labels):\n",
    "    ary = np.zeros((y.shape[0], num_labels))\n",
    "    for i, val in enumerate(y):\n",
    "        ary[i, val] = 1\n",
    "    return ary"
   ]
  },
  {
   "cell_type": "markdown",
   "id": "d68e1622-57c6-4aec-8fc2-2dd849418a92",
   "metadata": {},
   "source": [
    "Mini Generator can be created with torch, However to be True for the cuase we'll create data loader using python generators"
   ]
  },
  {
   "cell_type": "code",
   "execution_count": 7,
   "id": "237af7f0-9fa9-4a89-bb7c-a5cd2cf7cd3d",
   "metadata": {},
   "outputs": [],
   "source": [
    "def minibatch_generator(X, y, minibatch_size):\n",
    "    indices = np.arange(X.shape[0])\n",
    "    np.random.shuffle(indices)\n",
    "    for start_idx in range(0, indices.shape[0] - minibatch_size + 1, minibatch_size):\n",
    "        batch_idx = indices[start_idx:start_idx + minibatch_size]\n",
    "        yield X[batch_idx], y[batch_idx]"
   ]
  },
  {
   "cell_type": "markdown",
   "id": "3e130e54-30f5-4f1f-8a12-572f03368981",
   "metadata": {},
   "source": [
    "Metrics Function "
   ]
  },
  {
   "cell_type": "code",
   "execution_count": 8,
   "id": "f5532064-0b99-4bcf-b273-e4d6b76ccb31",
   "metadata": {},
   "outputs": [],
   "source": [
    "def mse_loss(targets, probas, num_labels=10):\n",
    "    onehot_targets = int_to_onehot(targets, num_labels=num_labels)\n",
    "    return np.mean((onehot_targets - probas)**2)"
   ]
  },
  {
   "cell_type": "code",
   "execution_count": 9,
   "id": "bd964217-5a30-4d22-b2a2-d142c5b4d0a2",
   "metadata": {},
   "outputs": [],
   "source": [
    "def accuracy(targets, predicted_labels):\n",
    "    return np.mean(predicted_labels == targets) "
   ]
  },
  {
   "cell_type": "markdown",
   "id": "cc958fc9-8fa3-4170-b051-c4fb675be900",
   "metadata": {},
   "source": [
    "Wrapper Function for easy access and more abstract code "
   ]
  },
  {
   "cell_type": "code",
   "execution_count": 10,
   "id": "b140e2ff-88b1-4b96-aebf-ed205f59e3d4",
   "metadata": {},
   "outputs": [],
   "source": [
    "def compute_mse_and_acc(nnet, X, y, num_labels=10, minibatch_size=200):\n",
    "    mse, correct_pred, auc_sum, num_examples , auc_counter = 0., 0, 0, 0, 0\n",
    "    minibatch_gen = minibatch_generator(X, y, minibatch_size)\n",
    "    for i, (features, targets) in enumerate(minibatch_gen):\n",
    "        if issubclass(type(nnet),torch.nn.Module):\n",
    "            features = torch.from_numpy(features).float()\n",
    "            probas = nnet(features).detach().numpy()\n",
    "        else: \n",
    "            _,_, probas = nnet.forward(features)\n",
    "        probas = softmax(probas)\n",
    "        predicted_labels = np.argmax(probas, axis=1)\n",
    "        onehot_targets = int_to_onehot(targets, num_labels=num_labels)\n",
    "        loss = np.mean((onehot_targets - probas)**2)\n",
    "        correct_pred += (predicted_labels == targets).sum() \n",
    "        try:\n",
    "            auc_sum += roc_auc_score(targets, probas, average='macro',multi_class='ovo')\n",
    "            auc_counter += 1\n",
    "        except ValueError:\n",
    "            print(\"----\")\n",
    "        num_examples += targets.shape[0]\n",
    "        mse += loss\n",
    "    mse = mse/i\n",
    "    acc = correct_pred/num_examples\n",
    "    auc = auc_sum / auc_counter\n",
    "    return mse, acc, auc"
   ]
  },
  {
   "cell_type": "markdown",
   "id": "211176ad-42ea-4c22-a683-4bc05aef2a08",
   "metadata": {},
   "source": [
    "### Fetch Digit Data"
   ]
  },
  {
   "cell_type": "code",
   "execution_count": 11,
   "id": "04b040ec-f670-4280-9488-c5a6b9fb7092",
   "metadata": {},
   "outputs": [],
   "source": [
    "X, y = fetch_openml('mnist_784', version=1, return_X_y=True)\n",
    "# change to np type\n",
    "X = X.values\n",
    "y = y.astype(int).values"
   ]
  },
  {
   "cell_type": "markdown",
   "id": "f8df14c8-edb5-4a8e-9bf2-6d49799f0ac9",
   "metadata": {},
   "source": [
    "### Split Data "
   ]
  },
  {
   "cell_type": "code",
   "execution_count": 12,
   "id": "efc14f25-6023-4b51-8e3b-7c2726abf856",
   "metadata": {},
   "outputs": [],
   "source": [
    "x_train, X_test, y_train, y_test = train_test_split(X, y, test_size=0.3, random_state=123, stratify=y)\n",
    "# del X,y"
   ]
  },
  {
   "cell_type": "markdown",
   "id": "1b45d0fc-c1d8-4fea-a898-93062e1c42d5",
   "metadata": {},
   "source": [
    "## Models"
   ]
  },
  {
   "cell_type": "markdown",
   "id": "05546c38-2ee0-4235-b945-a202beb739ab",
   "metadata": {
    "jp-MarkdownHeadingCollapsed": true,
    "tags": []
   },
   "source": [
    "### single-Layer (numpy)"
   ]
  },
  {
   "cell_type": "markdown",
   "id": "9d1a0549-76f5-4604-aa19-c14d7b47f3d3",
   "metadata": {},
   "source": [
    "This code was implmented by rasbt in his book <a href=\"https://github.com/rasbt/machine-learning-book/blob/main/ch11/ch11.ipynb\" target=\"_blank\">\"machine-learning-book\"</a>"
   ]
  },
  {
   "cell_type": "code",
   "execution_count": 13,
   "id": "92afc2ca-dee5-4604-9a69-fdb1fd605cf7",
   "metadata": {},
   "outputs": [],
   "source": [
    "class OneLayerNumpy:\n",
    "\n",
    "    def __init__(self, num_features, num_hidden, num_classes, random_seed=123):\n",
    "        super().__init__()\n",
    "        \n",
    "        self.num_classes = num_classes\n",
    "        \n",
    "        # hidden\n",
    "        rng = np.random.RandomState(random_seed)\n",
    "        \n",
    "        self.weight_h = rng.normal(\n",
    "            loc=0.0, scale=0.1, size=(num_hidden, num_features))\n",
    "        self.bias_h = np.zeros(num_hidden)\n",
    "        \n",
    "        # output\n",
    "        self.weight_out = rng.normal(\n",
    "            loc=0.0, scale=0.1, size=(num_classes, num_hidden))\n",
    "        self.bias_out = np.zeros(num_classes)\n",
    "        \n",
    "    def forward(self, x):\n",
    "        # Hidden layer\n",
    "        # input dim: [n_examples, n_features] dot [n_hidden, n_features].T\n",
    "        # output dim: [n_examples, n_hidden]\n",
    "        z_h = np.dot(x, self.weight_h.T) + self.bias_h\n",
    "        a_h = sigmoid(z_h)\n",
    "\n",
    "        # Output layer\n",
    "        # input dim: [n_examples, n_hidden] dot [n_classes, n_hidden].T\n",
    "        # output dim: [n_examples, n_classes]\n",
    "        z_out = np.dot(a_h, self.weight_out.T) + self.bias_out\n",
    "        a_out = sigmoid(z_out)\n",
    "        return None, a_h, a_out\n",
    "\n",
    "    def backward(self, x, a_h, a_out, y):  \n",
    "    \n",
    "        #########################\n",
    "        ### Output layer weights\n",
    "        #########################\n",
    "        \n",
    "        # onehot encoding\n",
    "        y_onehot = int_to_onehot(y, self.num_classes)\n",
    "\n",
    "        # Part 1: dLoss/dOutWeights\n",
    "        ## = dLoss/dOutAct * dOutAct/dOutNet * dOutNet/dOutWeight\n",
    "        ## where DeltaOut = dLoss/dOutAct * dOutAct/dOutNet\n",
    "        ## for convenient re-use\n",
    "        \n",
    "        # input/output dim: [n_examples, n_classes]\n",
    "        d_loss__d_a_out = 2.*(a_out - y_onehot) / y.shape[0]\n",
    "\n",
    "        # input/output dim: [n_examples, n_classes]\n",
    "        d_a_out__d_z_out = a_out * (1. - a_out) # sigmoid derivative\n",
    "\n",
    "        # output dim: [n_examples, n_classes]\n",
    "        delta_out = d_loss__d_a_out * d_a_out__d_z_out # \"delta (rule) placeholder\"\n",
    "\n",
    "        # gradient for output weights\n",
    "        \n",
    "        # [n_examples, n_hidden]\n",
    "        d_z_out__dw_out = a_h\n",
    "        \n",
    "        # input dim: [n_classes, n_examples] dot [n_examples, n_hidden]\n",
    "        # output dim: [n_classes, n_hidden]\n",
    "        d_loss__dw_out = np.dot(delta_out.T, d_z_out__dw_out)\n",
    "        d_loss__db_out = np.sum(delta_out, axis=0)\n",
    "        \n",
    "\n",
    "        #################################        \n",
    "        # Part 2: dLoss/dHiddenWeights\n",
    "        ## = DeltaOut * dOutNet/dHiddenAct * dHiddenAct/dHiddenNet * dHiddenNet/dWeight\n",
    "        \n",
    "        # [n_classes, n_hidden]\n",
    "        d_z_out__a_h = self.weight_out\n",
    "        \n",
    "        # output dim: [n_examples, n_hidden]\n",
    "        d_loss__a_h = np.dot(delta_out, d_z_out__a_h)\n",
    "        \n",
    "        # [n_examples, n_hidden]\n",
    "        d_a_h__d_z_h = a_h * (1. - a_h) # sigmoid derivative\n",
    "        \n",
    "        # [n_examples, n_features]\n",
    "        d_z_h__d_w_h = x\n",
    "        \n",
    "        # output dim: [n_hidden, n_features]\n",
    "        d_loss__d_w_h = np.dot((d_loss__a_h * d_a_h__d_z_h).T, d_z_h__d_w_h)\n",
    "        d_loss__d_b_h = np.sum((d_loss__a_h * d_a_h__d_z_h), axis=0)\n",
    "\n",
    "        return (d_loss__dw_out, d_loss__db_out, \n",
    "                d_loss__d_w_h, d_loss__d_b_h)"
   ]
  },
  {
   "cell_type": "markdown",
   "id": "1290df79-3fd6-4b4b-9822-5d8e4fd545bd",
   "metadata": {
    "jp-MarkdownHeadingCollapsed": true,
    "tags": []
   },
   "source": [
    "### Two Layer ANN (numpy)"
   ]
  },
  {
   "cell_type": "markdown",
   "id": "be3348dd-49d6-45c3-ac43-d172349f971b",
   "metadata": {},
   "source": [
    "After understanding the effect, we'll improve the model by adding new hidden layer as followed:"
   ]
  },
  {
   "cell_type": "code",
   "execution_count": 14,
   "id": "f384df75-00ea-4774-85a4-2deee48e4acb",
   "metadata": {},
   "outputs": [],
   "source": [
    "class TwoLayerNumpy:\n",
    "\n",
    "    def __init__(self, num_features, num_hidden, num_classes, random_seed=123):\n",
    "        super().__init__()\n",
    "        \n",
    "        self.num_classes = num_classes\n",
    "        \n",
    "        # hidden\n",
    "        rng = np.random.RandomState(random_seed)\n",
    "        \n",
    "        self.weight_h = rng.normal(loc=0.0, scale=0.1, size=(num_hidden, num_features))\n",
    "        self.bias_h = np.zeros(num_hidden)\n",
    "        \n",
    "        self.weight_hh = rng.normal(loc=0.0, scale=0.1, size=(num_hidden, num_hidden))\n",
    "        self.bias_hh = np.zeros(num_hidden)\n",
    "        # output\n",
    "        self.weight_out = rng.normal(loc=0.0, scale=0.1, size=(num_classes, num_hidden))\n",
    "        self.bias_out = np.zeros(num_classes)\n",
    "        \n",
    "    def forward(self, x):\n",
    "        # First Layer \n",
    "        z_h = np.dot(x, self.weight_h.T) + self.bias_h\n",
    "        act_h = sigmoid(z_h)\n",
    "        # Second Layer \n",
    "        z_hh = np.dot(act_h, self.weight_hh.T) + self.bias_hh\n",
    "        act_hh = sigmoid(z_hh)\n",
    "        z_out = np.dot(act_hh, self.weight_out.T) + self.bias_out\n",
    "        act_out = sigmoid(z_out)\n",
    "        return act_h, act_hh, act_out\n",
    "\n",
    "    def update(self, grad, lr):\n",
    "        self.weight_h -= lr * grad[0]\n",
    "        self.bias_h -= lr * grad[1]\n",
    "        \n",
    "        self.weight_hh -= lr * grad[2]\n",
    "        self.bias_hh -= lr * grad[3]\n",
    "        \n",
    "        self.weight_out -= lr * grad[4]\n",
    "        self.bias_out -= lr * grad[5]\n",
    "    \n",
    "    \n",
    "    def backward(self, x, act_h, act_hh, act_out, y):  \n",
    "    \n",
    "        #########################\n",
    "        ### Output layer weights\n",
    "        #########################\n",
    "        \n",
    "        # onehot encoding\n",
    "        y_onehot = int_to_onehot(y, self.num_classes)\n",
    "\n",
    "        # dLoss/dWeightsOut = dLoss/dActOut * dActOut/dZOut * dZOut/dWOut\n",
    "        dLoss_dActOut =  2.*(act_out - y_onehot) / y.shape[0]\n",
    "        dActOut_dZOut =  act_out * (1. - act_out)\n",
    "        # dloss/dzout\n",
    "        dLoss_dZOut = dLoss_dActOut * dActOut_dZOut\n",
    "        dZOut_dWOut = act_hh\n",
    "        # Lets Multiply\n",
    "        dLoss_dWOut = np.dot(dLoss_dZOut.T,dZOut_dWOut)\n",
    "        dLoss_dBOut = np.sum(dLoss_dZOut, axis=0)\n",
    "        \n",
    "        #########################\n",
    "        ### Middle layer weights\n",
    "        #########################\n",
    "        # dLoss/dWeightsHH = dLoss/dZOut * dZOut/dActHH * dActHH/dZHH * dZHH/dWHH\n",
    "        dZOut_dActHH = self.weight_out\n",
    "        dLoss_dActHH = np.dot(dLoss_dZOut,dZOut_dActHH)\n",
    "        dActHH_dZHH =  act_hh * (1. - act_hh)\n",
    "        dZHH_dWHH = act_h\n",
    "        dLoss_dZHH = dLoss_dActHH * dActHH_dZHH\n",
    "        # Lets Multiply\n",
    "        dLoss_dWeightsHH = np.dot(dLoss_dZHH.T,dZHH_dWHH)\n",
    "        dLoss_dBHH = np.sum(dLoss_dZHH, axis=0)\n",
    "        \n",
    "\n",
    "        #########################\n",
    "        ### First layer weights\n",
    "        #########################\n",
    "        # dLoss/dWeightsH = dLoss/dZOHH * dZHH/dActH * dActH/dZH * dZH/dWH\n",
    "        dZHH_dActH = self.weight_hh\n",
    "        dLoss_dActH = np.dot(dLoss_dZHH,dZHH_dActH)\n",
    "        dActH_dZH =  act_h * (1. - act_h)\n",
    "        dZH_dWH = x\n",
    "        dLoss_dZH = dLoss_dActH * dActH_dZH\n",
    "        # Lets Multiply\n",
    "        dLoss_dWeightsH = np.dot(dLoss_dZH.T,dZH_dWH)\n",
    "        dLoss_dBH = np.sum(dLoss_dZH, axis=0)\n",
    "        \n",
    "        return (dLoss_dWeightsH, dLoss_dBH, dLoss_dWeightsHH, dLoss_dBHH, dLoss_dWOut ,dLoss_dBOut)"
   ]
  },
  {
   "cell_type": "markdown",
   "id": "bbe040f0-90ee-42b3-83b8-c30230e68f79",
   "metadata": {
    "jp-MarkdownHeadingCollapsed": true,
    "tags": []
   },
   "source": [
    "### single-Layer (torch)"
   ]
  },
  {
   "cell_type": "markdown",
   "id": "642335f0-a4b5-4b2e-acc4-dc9b7dc54e25",
   "metadata": {},
   "source": [
    "We'll use Pytorch framework for comparasion reasion, and see how easly we created the model"
   ]
  },
  {
   "cell_type": "code",
   "execution_count": 15,
   "id": "a02e0bce-8b42-4620-9fac-3c7adf9f322c",
   "metadata": {},
   "outputs": [],
   "source": [
    "class TorchModel(torch.nn.Module):\n",
    "    def __init__(self,num_features, num_hidden, num_classes):\n",
    "        super(TorchModel, self).__init__()\n",
    "        self.net = nn.Sequential(\n",
    "            nn.Linear(num_features,num_hidden),\n",
    "            nn.Sigmoid(),\n",
    "            nn.Linear(num_hidden,num_classes),\n",
    "        )\n",
    "\n",
    "    def forward(self, x):\n",
    "        return self.net(x)"
   ]
  },
  {
   "cell_type": "markdown",
   "id": "65413672-d03e-451b-b839-7bd293f3491e",
   "metadata": {},
   "source": [
    "### Create Model Instance"
   ]
  },
  {
   "cell_type": "code",
   "execution_count": 16,
   "id": "124733e2-57fa-45c9-abca-76c45c1275d3",
   "metadata": {},
   "outputs": [],
   "source": [
    "param = {\"num_features\":28*28,\"num_hidden\":50,\"num_classes\":10}\n",
    "th_model = TorchModel(**param)\n",
    "np_model_1 = OneLayerNumpy(**param)\n",
    "np_model_2 = TwoLayerNumpy(**param)\n",
    "models = [th_model,np_model_1,np_model_2]"
   ]
  },
  {
   "cell_type": "code",
   "execution_count": 17,
   "id": "856407eb-59f4-41d6-834c-b27df6e0ac7e",
   "metadata": {},
   "outputs": [],
   "source": [
    "optimizer = torch.optim.SGD(th_model.parameters(), lr=0.01, momentum=0.9)\n",
    "criterion = torch.nn.MSELoss() "
   ]
  },
  {
   "cell_type": "markdown",
   "id": "20307cb2-867f-4014-94b4-83ade89a7d03",
   "metadata": {
    "tags": []
   },
   "source": [
    "## Train Models"
   ]
  },
  {
   "cell_type": "code",
   "execution_count": 18,
   "id": "e1d0efd9-ce50-43cb-9f87-72c7f3a2a5cb",
   "metadata": {},
   "outputs": [],
   "source": [
    "def train(models, X_train, y_train, num_epochs = 50,minibatch_size=100, learning_rate=0.1):\n",
    "    np_1_info = {'loss': [], 'acc': [], 'auc': []}\n",
    "    np_2_info = {'loss': [], 'acc': [], 'auc': []}\n",
    "    th_info = {'loss': [], 'acc': [], 'auc': []}\n",
    "    th_model, np_model_1 , np_model_2 = models    \n",
    "    for e in range(num_epochs):\n",
    "        print(\"=\"*10,f\"Epoch N.{e}\",\"=\"*10)\n",
    "        # iterate over minibatches\n",
    "        minibatch_gen = minibatch_generator(X_train, y_train, minibatch_size)\n",
    "        th_model.train()\n",
    "        for X_train_mini, y_train_mini in minibatch_gen:\n",
    "            inputs = torch.from_numpy(X_train_mini).float()\n",
    "            labels = torch.from_numpy(int_to_onehot(y_train_mini, num_labels=10)).float()\n",
    "            optimizer.zero_grad()\n",
    "            ### Foward ###\n",
    "            _, np_1_a_h, np_1_a_out = np_model_1.forward(X_train_mini)\n",
    "            np_2_act_h, np_2_act_hh, np_2_act_out = np_model_2.forward(X_train_mini)\n",
    "            preds = th_model(inputs)\n",
    "            ### Backward ### \n",
    "            gradient = np_model_2.backward(X_train_mini,np_2_act_h,np_2_act_hh,np_2_act_out,y_train_mini)\n",
    "            d_loss__d_w_out, d_loss__d_b_out, d_loss__d_w_h, d_loss__d_b_h = np_model_1.backward(X_train_mini, np_1_a_h, np_1_a_out, y_train_mini)\n",
    "            loss = criterion(preds, labels)\n",
    "            loss.backward()\n",
    "            ### Update Weights\n",
    "            np_model_2.update(gradient,learning_rate)\n",
    "            np_model_1.weight_h -= learning_rate * d_loss__d_w_h\n",
    "            np_model_1.bias_h -= learning_rate * d_loss__d_b_h\n",
    "            np_model_1.weight_out -= learning_rate * d_loss__d_w_out\n",
    "            np_model_1.bias_out -= learning_rate * d_loss__d_b_out\n",
    "            optimizer.step()\n",
    "        def helper(dct, model):\n",
    "            x,y,z = compute_mse_and_acc(model, X_train, y_train)\n",
    "            dct['loss'].append(x)\n",
    "            dct['acc'].append(y*100)\n",
    "            dct['auc'].append(z*100)\n",
    "        helper(np_1_info,np_model_1)\n",
    "        helper(np_2_info,np_model_2)\n",
    "        helper(th_info,th_model)\n",
    "        print( \n",
    "              f\"| np_1 MSE: {np_1_info['loss'][-1]:.2f} \"\n",
    "              f\"| np_1 Acc: {np_1_info['acc'][-1]:.2f}% \"\n",
    "              f\"| np_1 Auc: {np_1_info['auc'][-1]:.2f}% \"\n",
    "              f\"| np_2 MSE: {np_2_info['loss'][-1]:.2f} \"\n",
    "              f\"| np_2 Acc: {np_2_info['acc'][-1]:.2f}%\"\n",
    "              f\"| np_2 Auc: {np_2_info['auc'][-1]:.2f}%\"\n",
    "              f\"| th MSE: {th_info['loss'][-1]:.2f} \"\n",
    "              f\"| th Acc: {th_info['acc'][-1]:.2f}%\"\n",
    "              f\"| th Auc: {th_info['auc'][-1]:.2f}%\"\n",
    "        )\n",
    "    return th_info, np_1_info, np_2_info"
   ]
  },
  {
   "cell_type": "code",
   "execution_count": 19,
   "id": "dcf2eabf-4782-44f8-ae95-baf8dbab0726",
   "metadata": {},
   "outputs": [
    {
     "name": "stdout",
     "output_type": "stream",
     "text": [
      "========== Epoch N.0 ==========\n",
      "| np_1 MSE: 0.08 | np_1 Acc: 79.39% | np_1 Auc: 96.64% | np_2 MSE: 0.09 | np_2 Acc: 29.64%| np_2 Auc: 87.06%| th MSE: 0.08 | th Acc: 86.78%| th Auc: 97.91%\n",
      "========== Epoch N.1 ==========\n",
      "| np_1 MSE: 0.08 | np_1 Acc: 84.79% | np_1 Auc: 97.86% | np_2 MSE: 0.09 | np_2 Acc: 49.23%| np_2 Auc: 92.31%| th MSE: 0.07 | th Acc: 88.80%| th Auc: 98.49%\n",
      "========== Epoch N.2 ==========\n",
      "| np_1 MSE: 0.08 | np_1 Acc: 86.28% | np_1 Auc: 98.29% | np_2 MSE: 0.08 | np_2 Acc: 65.20%| np_2 Auc: 95.18%| th MSE: 0.07 | th Acc: 89.63%| th Auc: 98.69%\n",
      "========== Epoch N.3 ==========\n",
      "| np_1 MSE: 0.07 | np_1 Acc: 88.40% | np_1 Auc: 98.65% | np_2 MSE: 0.08 | np_2 Acc: 76.07%| np_2 Auc: 96.43%| th MSE: 0.07 | th Acc: 89.77%| th Auc: 98.81%\n",
      "========== Epoch N.4 ==========\n",
      "| np_1 MSE: 0.07 | np_1 Acc: 89.10% | np_1 Auc: 98.78% | np_2 MSE: 0.08 | np_2 Acc: 82.70%| np_2 Auc: 97.52%| th MSE: 0.07 | th Acc: 90.40%| th Auc: 98.93%\n",
      "========== Epoch N.5 ==========\n",
      "| np_1 MSE: 0.07 | np_1 Acc: 89.53% | np_1 Auc: 98.86% | np_2 MSE: 0.08 | np_2 Acc: 85.69%| np_2 Auc: 98.08%| th MSE: 0.07 | th Acc: 91.08%| th Auc: 99.01%\n",
      "========== Epoch N.6 ==========\n",
      "| np_1 MSE: 0.07 | np_1 Acc: 89.56% | np_1 Auc: 98.89% | np_2 MSE: 0.08 | np_2 Acc: 87.33%| np_2 Auc: 98.40%| th MSE: 0.07 | th Acc: 90.97%| th Auc: 99.03%\n",
      "========== Epoch N.7 ==========\n",
      "| np_1 MSE: 0.07 | np_1 Acc: 89.96% | np_1 Auc: 98.96% | np_2 MSE: 0.08 | np_2 Acc: 87.97%| np_2 Auc: 98.56%| th MSE: 0.07 | th Acc: 91.48%| th Auc: 99.13%\n",
      "========== Epoch N.8 ==========\n",
      "| np_1 MSE: 0.07 | np_1 Acc: 90.58% | np_1 Auc: 99.02% | np_2 MSE: 0.07 | np_2 Acc: 88.74%| np_2 Auc: 98.64%| th MSE: 0.07 | th Acc: 91.59%| th Auc: 99.03%\n",
      "========== Epoch N.9 ==========\n",
      "| np_1 MSE: 0.07 | np_1 Acc: 90.63% | np_1 Auc: 99.05% | np_2 MSE: 0.07 | np_2 Acc: 89.02%| np_2 Auc: 98.78%| th MSE: 0.07 | th Acc: 91.74%| th Auc: 99.07%\n",
      "========== Epoch N.10 ==========\n",
      "| np_1 MSE: 0.07 | np_1 Acc: 90.59% | np_1 Auc: 99.00% | np_2 MSE: 0.07 | np_2 Acc: 89.69%| np_2 Auc: 98.88%| th MSE: 0.07 | th Acc: 91.77%| th Auc: 99.11%\n",
      "========== Epoch N.11 ==========\n",
      "| np_1 MSE: 0.07 | np_1 Acc: 90.45% | np_1 Auc: 98.99% | np_2 MSE: 0.07 | np_2 Acc: 89.85%| np_2 Auc: 98.94%| th MSE: 0.07 | th Acc: 91.89%| th Auc: 99.20%\n",
      "========== Epoch N.12 ==========\n",
      "| np_1 MSE: 0.07 | np_1 Acc: 91.11% | np_1 Auc: 99.15% | np_2 MSE: 0.07 | np_2 Acc: 89.87%| np_2 Auc: 98.95%| th MSE: 0.07 | th Acc: 92.02%| th Auc: 99.17%\n",
      "========== Epoch N.13 ==========\n",
      "| np_1 MSE: 0.07 | np_1 Acc: 91.12% | np_1 Auc: 99.13% | np_2 MSE: 0.07 | np_2 Acc: 89.76%| np_2 Auc: 98.93%| th MSE: 0.07 | th Acc: 91.70%| th Auc: 99.22%\n",
      "========== Epoch N.14 ==========\n",
      "| np_1 MSE: 0.07 | np_1 Acc: 91.11% | np_1 Auc: 99.17% | np_2 MSE: 0.07 | np_2 Acc: 90.19%| np_2 Auc: 99.01%| th MSE: 0.07 | th Acc: 92.14%| th Auc: 99.20%\n",
      "========== Epoch N.15 ==========\n",
      "| np_1 MSE: 0.07 | np_1 Acc: 91.53% | np_1 Auc: 99.20% | np_2 MSE: 0.07 | np_2 Acc: 90.18%| np_2 Auc: 99.00%| th MSE: 0.07 | th Acc: 92.03%| th Auc: 99.21%\n",
      "========== Epoch N.16 ==========\n",
      "| np_1 MSE: 0.07 | np_1 Acc: 91.33% | np_1 Auc: 99.16% | np_2 MSE: 0.07 | np_2 Acc: 90.43%| np_2 Auc: 99.04%| th MSE: 0.07 | th Acc: 91.83%| th Auc: 99.24%\n",
      "========== Epoch N.17 ==========\n",
      "| np_1 MSE: 0.07 | np_1 Acc: 91.53% | np_1 Auc: 99.16% | np_2 MSE: 0.07 | np_2 Acc: 89.83%| np_2 Auc: 99.03%| th MSE: 0.07 | th Acc: 91.73%| th Auc: 99.27%\n",
      "========== Epoch N.18 ==========\n",
      "| np_1 MSE: 0.07 | np_1 Acc: 91.50% | np_1 Auc: 99.20% | np_2 MSE: 0.07 | np_2 Acc: 90.57%| np_2 Auc: 99.04%| th MSE: 0.07 | th Acc: 92.48%| th Auc: 99.31%\n",
      "========== Epoch N.19 ==========\n",
      "| np_1 MSE: 0.07 | np_1 Acc: 91.56% | np_1 Auc: 99.20% | np_2 MSE: 0.07 | np_2 Acc: 89.84%| np_2 Auc: 99.00%| th MSE: 0.07 | th Acc: 92.28%| th Auc: 99.30%\n",
      "========== Epoch N.20 ==========\n",
      "| np_1 MSE: 0.07 | np_1 Acc: 91.50% | np_1 Auc: 99.21% | np_2 MSE: 0.07 | np_2 Acc: 90.30%| np_2 Auc: 99.08%| th MSE: 0.07 | th Acc: 92.32%| th Auc: 99.30%\n",
      "========== Epoch N.21 ==========\n",
      "| np_1 MSE: 0.07 | np_1 Acc: 92.04% | np_1 Auc: 99.26% | np_2 MSE: 0.07 | np_2 Acc: 90.71%| np_2 Auc: 99.15%| th MSE: 0.07 | th Acc: 92.45%| th Auc: 99.32%\n",
      "========== Epoch N.22 ==========\n",
      "| np_1 MSE: 0.07 | np_1 Acc: 91.73% | np_1 Auc: 99.21% | np_2 MSE: 0.07 | np_2 Acc: 91.33%| np_2 Auc: 99.18%| th MSE: 0.07 | th Acc: 92.71%| th Auc: 99.34%\n",
      "========== Epoch N.23 ==========\n",
      "| np_1 MSE: 0.07 | np_1 Acc: 91.84% | np_1 Auc: 99.24% | np_2 MSE: 0.07 | np_2 Acc: 90.94%| np_2 Auc: 99.18%| th MSE: 0.07 | th Acc: 92.74%| th Auc: 99.33%\n",
      "========== Epoch N.24 ==========\n",
      "| np_1 MSE: 0.07 | np_1 Acc: 92.08% | np_1 Auc: 99.22% | np_2 MSE: 0.07 | np_2 Acc: 90.90%| np_2 Auc: 99.09%| th MSE: 0.07 | th Acc: 92.49%| th Auc: 99.32%\n",
      "========== Epoch N.25 ==========\n",
      "| np_1 MSE: 0.07 | np_1 Acc: 92.34% | np_1 Auc: 99.29% | np_2 MSE: 0.07 | np_2 Acc: 91.17%| np_2 Auc: 99.17%| th MSE: 0.07 | th Acc: 92.21%| th Auc: 99.28%\n",
      "========== Epoch N.26 ==========\n",
      "| np_1 MSE: 0.07 | np_1 Acc: 91.91% | np_1 Auc: 99.24% | np_2 MSE: 0.07 | np_2 Acc: 91.21%| np_2 Auc: 99.19%| th MSE: 0.07 | th Acc: 92.48%| th Auc: 99.32%\n",
      "========== Epoch N.27 ==========\n",
      "| np_1 MSE: 0.07 | np_1 Acc: 91.88% | np_1 Auc: 99.22% | np_2 MSE: 0.07 | np_2 Acc: 91.39%| np_2 Auc: 99.17%| th MSE: 0.07 | th Acc: 92.84%| th Auc: 99.33%\n",
      "========== Epoch N.28 ==========\n",
      "| np_1 MSE: 0.07 | np_1 Acc: 91.99% | np_1 Auc: 99.25% | np_2 MSE: 0.07 | np_2 Acc: 91.34%| np_2 Auc: 99.18%| th MSE: 0.07 | th Acc: 92.74%| th Auc: 99.33%\n",
      "========== Epoch N.29 ==========\n",
      "| np_1 MSE: 0.07 | np_1 Acc: 91.76% | np_1 Auc: 99.14% | np_2 MSE: 0.07 | np_2 Acc: 91.02%| np_2 Auc: 99.15%| th MSE: 0.07 | th Acc: 92.84%| th Auc: 99.37%\n",
      "========== Epoch N.30 ==========\n",
      "| np_1 MSE: 0.07 | np_1 Acc: 92.41% | np_1 Auc: 99.34% | np_2 MSE: 0.07 | np_2 Acc: 91.82%| np_2 Auc: 99.28%| th MSE: 0.07 | th Acc: 92.46%| th Auc: 99.30%\n",
      "========== Epoch N.31 ==========\n",
      "| np_1 MSE: 0.07 | np_1 Acc: 92.09% | np_1 Auc: 99.28% | np_2 MSE: 0.07 | np_2 Acc: 91.51%| np_2 Auc: 99.26%| th MSE: 0.07 | th Acc: 92.66%| th Auc: 99.37%\n",
      "========== Epoch N.32 ==========\n",
      "| np_1 MSE: 0.07 | np_1 Acc: 92.40% | np_1 Auc: 99.31% | np_2 MSE: 0.07 | np_2 Acc: 91.71%| np_2 Auc: 99.25%| th MSE: 0.07 | th Acc: 92.86%| th Auc: 99.42%\n",
      "========== Epoch N.33 ==========\n",
      "| np_1 MSE: 0.07 | np_1 Acc: 92.18% | np_1 Auc: 99.29% | np_2 MSE: 0.07 | np_2 Acc: 91.85%| np_2 Auc: 99.26%| th MSE: 0.07 | th Acc: 93.11%| th Auc: 99.38%\n",
      "========== Epoch N.34 ==========\n",
      "| np_1 MSE: 0.07 | np_1 Acc: 92.35% | np_1 Auc: 99.31% | np_2 MSE: 0.07 | np_2 Acc: 91.78%| np_2 Auc: 99.28%| th MSE: 0.07 | th Acc: 92.90%| th Auc: 99.37%\n",
      "========== Epoch N.35 ==========\n",
      "| np_1 MSE: 0.07 | np_1 Acc: 92.55% | np_1 Auc: 99.33% | np_2 MSE: 0.07 | np_2 Acc: 90.77%| np_2 Auc: 99.09%| th MSE: 0.07 | th Acc: 92.83%| th Auc: 99.41%\n",
      "========== Epoch N.36 ==========\n",
      "| np_1 MSE: 0.07 | np_1 Acc: 92.85% | np_1 Auc: 99.37% | np_2 MSE: 0.07 | np_2 Acc: 91.32%| np_2 Auc: 99.17%| th MSE: 0.07 | th Acc: 93.19%| th Auc: 99.39%\n",
      "========== Epoch N.37 ==========\n",
      "| np_1 MSE: 0.07 | np_1 Acc: 92.26% | np_1 Auc: 99.28% | np_2 MSE: 0.07 | np_2 Acc: 91.81%| np_2 Auc: 99.25%| th MSE: 0.07 | th Acc: 93.28%| th Auc: 99.41%\n",
      "========== Epoch N.38 ==========\n",
      "| np_1 MSE: 0.07 | np_1 Acc: 92.74% | np_1 Auc: 99.34% | np_2 MSE: 0.07 | np_2 Acc: 92.26%| np_2 Auc: 99.31%| th MSE: 0.07 | th Acc: 93.31%| th Auc: 99.40%\n",
      "========== Epoch N.39 ==========\n",
      "| np_1 MSE: 0.07 | np_1 Acc: 92.68% | np_1 Auc: 99.34% | np_2 MSE: 0.07 | np_2 Acc: 92.30%| np_2 Auc: 99.30%| th MSE: 0.07 | th Acc: 92.97%| th Auc: 99.40%\n",
      "========== Epoch N.40 ==========\n",
      "| np_1 MSE: 0.07 | np_1 Acc: 93.18% | np_1 Auc: 99.36% | np_2 MSE: 0.07 | np_2 Acc: 92.14%| np_2 Auc: 99.31%| th MSE: 0.07 | th Acc: 93.22%| th Auc: 99.38%\n",
      "========== Epoch N.41 ==========\n",
      "| np_1 MSE: 0.07 | np_1 Acc: 92.80% | np_1 Auc: 99.33% | np_2 MSE: 0.07 | np_2 Acc: 92.24%| np_2 Auc: 99.34%| th MSE: 0.07 | th Acc: 92.98%| th Auc: 99.42%\n",
      "========== Epoch N.42 ==========\n",
      "| np_1 MSE: 0.07 | np_1 Acc: 92.89% | np_1 Auc: 99.36% | np_2 MSE: 0.07 | np_2 Acc: 92.25%| np_2 Auc: 99.32%| th MSE: 0.07 | th Acc: 93.18%| th Auc: 99.45%\n",
      "========== Epoch N.43 ==========\n",
      "| np_1 MSE: 0.07 | np_1 Acc: 93.00% | np_1 Auc: 99.36% | np_2 MSE: 0.07 | np_2 Acc: 92.41%| np_2 Auc: 99.36%| th MSE: 0.07 | th Acc: 93.38%| th Auc: 99.43%\n",
      "========== Epoch N.44 ==========\n",
      "| np_1 MSE: 0.07 | np_1 Acc: 92.52% | np_1 Auc: 99.31% | np_2 MSE: 0.07 | np_2 Acc: 92.49%| np_2 Auc: 99.36%| th MSE: 0.07 | th Acc: 93.19%| th Auc: 99.40%\n",
      "========== Epoch N.45 ==========\n",
      "| np_1 MSE: 0.07 | np_1 Acc: 92.70% | np_1 Auc: 99.33% | np_2 MSE: 0.07 | np_2 Acc: 92.48%| np_2 Auc: 99.36%| th MSE: 0.07 | th Acc: 93.43%| th Auc: 99.41%\n",
      "========== Epoch N.46 ==========\n",
      "| np_1 MSE: 0.07 | np_1 Acc: 92.41% | np_1 Auc: 99.30% | np_2 MSE: 0.07 | np_2 Acc: 92.59%| np_2 Auc: 99.38%| th MSE: 0.07 | th Acc: 93.07%| th Auc: 99.39%\n",
      "========== Epoch N.47 ==========\n",
      "| np_1 MSE: 0.07 | np_1 Acc: 92.88% | np_1 Auc: 99.33% | np_2 MSE: 0.07 | np_2 Acc: 92.88%| np_2 Auc: 99.40%| th MSE: 0.07 | th Acc: 93.29%| th Auc: 99.44%\n",
      "========== Epoch N.48 ==========\n",
      "| np_1 MSE: 0.07 | np_1 Acc: 92.82% | np_1 Auc: 99.35% | np_2 MSE: 0.07 | np_2 Acc: 92.76%| np_2 Auc: 99.37%| th MSE: 0.07 | th Acc: 93.43%| th Auc: 99.48%\n",
      "========== Epoch N.49 ==========\n",
      "| np_1 MSE: 0.07 | np_1 Acc: 92.36% | np_1 Auc: 99.31% | np_2 MSE: 0.07 | np_2 Acc: 92.81%| np_2 Auc: 99.36%| th MSE: 0.07 | th Acc: 93.36%| th Auc: 99.46%\n"
     ]
    }
   ],
   "source": [
    "#x_train, X_test, y_train, y_test\n",
    "th_info, np_1_info, np_2_info = train(models,x_train,y_train)"
   ]
  },
  {
   "cell_type": "markdown",
   "id": "75e8ff5b-6d13-45a0-957c-ab367f8c51bc",
   "metadata": {},
   "source": [
    "## Evaluating the neural network performance"
   ]
  },
  {
   "cell_type": "code",
   "execution_count": 29,
   "id": "1c933c2d-49bc-44fc-bb1d-c9239a29f2c7",
   "metadata": {},
   "outputs": [
    {
     "data": {
      "image/png": "[encoded data removed]",
      "text/plain": [
       "<Figure size 432x288 with 1 Axes>"
      ]
     },
     "metadata": {
      "needs_background": "light"
     },
     "output_type": "display_data"
    }
   ],
   "source": [
    "plt.plot(range(len(np_1_info['loss'])), np_1_info['loss'], label='Single')\n",
    "plt.plot(range(len( np_2_info['loss'])), np_2_info['loss'], label='Double')\n",
    "plt.plot(range(len(th_info['loss'])), th_info['loss'], label='torch')\n",
    "\n",
    "plt.ylabel('MSE LOSS')\n",
    "plt.xlabel('Epochs')\n",
    "plt.legend(loc='lower right')\n",
    "#plt.savefig('figures/11_08.png', dpi=300)\n",
    "plt.show()"
   ]
  },
  {
   "cell_type": "code",
   "execution_count": 30,
   "id": "9ba99f72-0d5c-4ab6-8969-ce39fe69691c",
   "metadata": {},
   "outputs": [
    {
     "data": {
      "image/png": "[encoded data removed]",
      "text/plain": [
       "<Figure size 432x288 with 1 Axes>"
      ]
     },
     "metadata": {
      "needs_background": "light"
     },
     "output_type": "display_data"
    }
   ],
   "source": [
    "plt.plot(range(len(np_1_info['acc'])), np_1_info['acc'], label='Single')\n",
    "plt.plot(range(len( np_2_info['acc'])), np_2_info['acc'], label='Double')\n",
    "plt.plot(range(len(th_info['acc'])), th_info['acc'], label='torch')\n",
    "\n",
    "plt.ylabel('Accuracy')\n",
    "plt.xlabel('Epochs')\n",
    "plt.legend(loc='lower right')\n",
    "#plt.savefig('figures/11_08.png', dpi=300)\n",
    "plt.show()"
   ]
  },
  {
   "cell_type": "code",
   "execution_count": 31,
   "id": "01898057-c42f-422d-b808-3477ad909460",
   "metadata": {},
   "outputs": [
    {
     "data": {
      "image/png": "[encoded data removed]",
      "text/plain": [
       "<Figure size 432x288 with 1 Axes>"
      ]
     },
     "metadata": {
      "needs_background": "light"
     },
     "output_type": "display_data"
    }
   ],
   "source": [
    "plt.plot(range(len(np_1_info['auc'])), np_1_info['auc'], label='Single')\n",
    "plt.plot(range(len( np_2_info['auc'])), np_2_info['auc'], label='Double')\n",
    "plt.plot(range(len(th_info['auc'])), th_info['auc'], label='torch')\n",
    "\n",
    "plt.ylabel('AUC')\n",
    "plt.xlabel('Epochs')\n",
    "plt.legend(loc='lower right')\n",
    "#plt.savefig('figures/11_08.png', dpi=300)\n",
    "plt.show()"
   ]
  },
  {
   "cell_type": "code",
   "execution_count": null,
   "id": "686f9585-4403-417d-bd44-c056e3fae4b9",
   "metadata": {},
   "outputs": [],
   "source": []
  }
 ],
 "metadata": {
  "kernelspec": {
   "display_name": "Python 3 (ipykernel)",
   "language": "python",
   "name": "python3"
  },
  "language_info": {
   "codemirror_mode": {
    "name": "ipython",
    "version": 3
   },
   "file_extension": ".py",
   "mimetype": "text/x-python",
   "name": "python",
   "nbconvert_exporter": "python",
   "pygments_lexer": "ipython3",
   "version": "3.9.7"
  }
 },
 "nbformat": 4,
 "nbformat_minor": 5
}
