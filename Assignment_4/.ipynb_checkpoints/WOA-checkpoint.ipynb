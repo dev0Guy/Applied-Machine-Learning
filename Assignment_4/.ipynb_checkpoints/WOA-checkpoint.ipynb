{
 "cells": [
  {
   "cell_type": "code",
   "execution_count": 2,
   "id": "4cd90248-233f-4c0a-bfab-77229441b2e5",
   "metadata": {},
   "outputs": [],
   "source": [
    "import random\n",
    "import math # cos() for Rastrigin\n",
    "import copy # array-copying convenience\n",
    "import sys # max float\n",
    "import numpy as np"
   ]
  },
  {
   "cell_type": "code",
   "execution_count": 22,
   "id": "5ce774fa-7c09-4092-a272-b527915bc201",
   "metadata": {},
   "outputs": [],
   "source": [
    "class WOA:\n",
    "\n",
    "    def __init__(self, fitness_func, limit, population_n,sol_dim, seed,min_type=True):\n",
    "        self._fitness_func = fitness_func\n",
    "        self._limit = limit\n",
    "        self._population_n = population_n\n",
    "        self._sol_dim = sol_dim\n",
    "        self._min_type = min_type\n",
    "        np.random.seed(seed)\n",
    "        self.rnd = random.Random(seed)\n",
    "    \n",
    "    def _init_population(self):\n",
    "        self._population = np.zeros((self._population_n,self._sol_dim))\n",
    "        for idx in range(self._population_n):\n",
    "            sol = self._limit[0] + (self._limit[0]-self._limit[1]) * \\\n",
    "                                np.random.uniform(low=0, high=1, size=(self._sol_dim))\n",
    "            self._population[idx] = sol\n",
    "\n",
    "    def _get_best_sol(self):\n",
    "        after_fitness = np.array(list(map(self._fitness_func,self._population)))\n",
    "        return np.min(after_fitness) if self._min_type else np.max(after_fitness) \n",
    "\n",
    "    def run(self,max_iter=20):\n",
    "        self._init_population()\n",
    "        min_bound = np.array([self._limit[0]]*self._sol_dim,dtype=np.float64)\n",
    "        max_bound = np.array([self._limit[1]]*self._sol_dim,dtype=np.float64)\n",
    "        for p in range(max_iter):\n",
    "            x_star = self._get_best_sol()\n",
    "            s = 2 * (1 - p / max_iter)\n",
    "            s2 = -1 + p *(-1/max_iter)\n",
    "            b = 1\n",
    "            l = (s2-1)*self.rnd.random()+1;\n",
    "            for idx,X in enumerate(self._population):\n",
    "                V = self.rnd.random()\n",
    "                K = 2 * s * V - s\n",
    "                J = 2 * V\n",
    "                t = self.rnd.random()\n",
    "                B = abs(J*x_star-X)\n",
    "                if t < .5:\n",
    "                    if abs(K) < 1:\n",
    "                        self._population[idx] = x_star - K*B\n",
    "                    else:\n",
    "                        option_lst = set([idx for idx in range(self._population_n)]) - {p}\n",
    "                        xr = random.choice(list(option_lst))\n",
    "                        self._population[idx] = xr-K*B\n",
    "                else:\n",
    "                    self._population[idx] = x_star + B * math.exp(b * l) * math.cos(2 * math.pi * l)\n",
    "                # Make sure all value in bound range\n",
    "                self._population[idx] = np.minimum(min_bound,self._population[idx])\n",
    "                self._population[idx] = np.maximum(max_bound,self._population[idx])\n",
    "        return x_star"
   ]
  },
  {
   "cell_type": "code",
   "execution_count": null,
   "id": "ff025940-ede1-493e-aeb8-b8964df791a1",
   "metadata": {},
   "outputs": [],
   "source": [
    "WOA"
   ]
  }
 ],
 "metadata": {
  "kernelspec": {
   "display_name": "Python 3 (ipykernel)",
   "language": "python",
   "name": "python3"
  },
  "language_info": {
   "codemirror_mode": {
    "name": "ipython",
    "version": 3
   },
   "file_extension": ".py",
   "mimetype": "text/x-python",
   "name": "python",
   "nbconvert_exporter": "python",
   "pygments_lexer": "ipython3",
   "version": "3.9.7"
  }
 },
 "nbformat": 4,
 "nbformat_minor": 5
}
