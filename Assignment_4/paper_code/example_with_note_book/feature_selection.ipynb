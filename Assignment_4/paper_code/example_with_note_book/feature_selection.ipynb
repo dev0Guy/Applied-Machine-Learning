{
 "cells": [
  {
   "cell_type": "markdown",
   "id": "cfa80786-4d40-4343-8b42-1076217f31dc",
   "metadata": {},
   "source": [
    "# A Tri-Stage Wrapper-Filter Feature Selection Framework for Disease Classification [Implmentation]"
   ]
  },
  {
   "cell_type": "code",
   "execution_count": 1,
   "id": "0eb0e18c-b70f-4643-8227-68cff4e1e2ff",
   "metadata": {},
   "outputs": [],
   "source": [
    "import numpy as np\n",
    "import itertools\n",
    "import pandas as pd\n",
    "from functools import cmp_to_key\n",
    "from sklearn.neighbors import KNeighborsClassifier\n",
    "from sklearn.svm import SVC\n",
    "from sklearn.naive_bayes import CategoricalNB\n",
    "from statistics import mean\n",
    "from sklearn.ensemble import GradientBoostingClassifier\n",
    "import random\n",
    "import math # cos() for Rastrigin\n",
    "import copy # array-copying convenience\n",
    "import sys # max float\n",
    "import numpy as np"
   ]
  },
  {
   "cell_type": "code",
   "execution_count": 2,
   "id": "2436a49a-1a1d-4ae4-af2b-b3d24b8e057b",
   "metadata": {},
   "outputs": [],
   "source": [
    "NUM_M = 50 \n",
    "NUM_K = 60\n",
    "NUM_J = 23\n",
    "MAX_R = 0.7\n",
    "POPULATION_NUMBER = 70\n",
    "ALPAH = 0.9\n",
    "BETA = 1 - ALPAH"
   ]
  },
  {
   "cell_type": "code",
   "execution_count": 3,
   "id": "7f73ddb5-ae7a-4015-bc8b-75981376da1d",
   "metadata": {},
   "outputs": [
    {
     "name": "stdout",
     "output_type": "stream",
     "text": [
      "Requirement already satisfied: ReliefF in /Users/guyarieli/opt/anaconda3/lib/python3.9/site-packages (0.1.2)\n",
      "Requirement already satisfied: scipy in /Users/guyarieli/opt/anaconda3/lib/python3.9/site-packages (from ReliefF) (1.7.3)\n",
      "Requirement already satisfied: scikit-learn in /Users/guyarieli/opt/anaconda3/lib/python3.9/site-packages (from ReliefF) (1.0.2)\n",
      "Requirement already satisfied: numpy in /Users/guyarieli/opt/anaconda3/lib/python3.9/site-packages (from ReliefF) (1.21.5)\n",
      "Requirement already satisfied: threadpoolctl>=2.0.0 in /Users/guyarieli/opt/anaconda3/lib/python3.9/site-packages (from scikit-learn->ReliefF) (2.2.0)\n",
      "Requirement already satisfied: joblib>=0.11 in /Users/guyarieli/opt/anaconda3/lib/python3.9/site-packages (from scikit-learn->ReliefF) (1.1.0)\n",
      "\u001b[33mWARNING: You are using pip version 22.0.4; however, version 22.1.2 is available.\n",
      "You should consider upgrading via the '/Users/guyarieli/opt/anaconda3/bin/python -m pip install --upgrade pip' command.\u001b[0m\n"
     ]
    }
   ],
   "source": [
    "!pip install ReliefF"
   ]
  },
  {
   "cell_type": "markdown",
   "id": "f08fad62-b970-47a5-b08d-d686406d9a65",
   "metadata": {
    "tags": []
   },
   "source": [
    "### Load Data"
   ]
  },
  {
   "cell_type": "code",
   "execution_count": 4,
   "id": "96328756-2d7e-4b87-98e1-032c5e8b797e",
   "metadata": {},
   "outputs": [],
   "source": [
    "inner_func = [ (f'F{idx+1}R',f'F{idx+1}S') for idx in range(22)]\n",
    "columns = ['OVERALL_DIAGNOSIS'] + list(itertools.chain(*inner_func))"
   ]
  },
  {
   "cell_type": "code",
   "execution_count": 5,
   "id": "a6f76a15-8f7e-42da-ac22-9c8743615a0c",
   "metadata": {},
   "outputs": [],
   "source": [
    "with open('./Data/SPECTF.train') as f:\n",
    "    \n",
    "    lines = f.readlines()\n",
    "    data_array = np.zeros((len(lines),45))\n",
    "    for row_idx,line in enumerate(lines):\n",
    "        data_array[row_idx] = list(map(lambda x: int(x),line.replace('\\n','').split(',')))"
   ]
  },
  {
   "cell_type": "code",
   "execution_count": 6,
   "id": "f89fece5-494f-47d7-92e0-60d9af67c8b8",
   "metadata": {},
   "outputs": [
    {
     "data": {
      "text/html": [
       "<div>\n",
       "<style scoped>\n",
       "    .dataframe tbody tr th:only-of-type {\n",
       "        vertical-align: middle;\n",
       "    }\n",
       "\n",
       "    .dataframe tbody tr th {\n",
       "        vertical-align: top;\n",
       "    }\n",
       "\n",
       "    .dataframe thead th {\n",
       "        text-align: right;\n",
       "    }\n",
       "</style>\n",
       "<table border=\"1\" class=\"dataframe\">\n",
       "  <thead>\n",
       "    <tr style=\"text-align: right;\">\n",
       "      <th></th>\n",
       "      <th>OVERALL_DIAGNOSIS</th>\n",
       "      <th>F1R</th>\n",
       "      <th>F1S</th>\n",
       "      <th>F2R</th>\n",
       "      <th>F2S</th>\n",
       "      <th>F3R</th>\n",
       "      <th>F3S</th>\n",
       "      <th>F4R</th>\n",
       "      <th>F4S</th>\n",
       "      <th>F5R</th>\n",
       "      <th>...</th>\n",
       "      <th>F18R</th>\n",
       "      <th>F18S</th>\n",
       "      <th>F19R</th>\n",
       "      <th>F19S</th>\n",
       "      <th>F20R</th>\n",
       "      <th>F20S</th>\n",
       "      <th>F21R</th>\n",
       "      <th>F21S</th>\n",
       "      <th>F22R</th>\n",
       "      <th>F22S</th>\n",
       "    </tr>\n",
       "  </thead>\n",
       "  <tbody>\n",
       "    <tr>\n",
       "      <th>0</th>\n",
       "      <td>1.0</td>\n",
       "      <td>1.0</td>\n",
       "      <td>1.0</td>\n",
       "      <td>1.0</td>\n",
       "      <td>1.0</td>\n",
       "      <td>1.0</td>\n",
       "      <td>1.0</td>\n",
       "      <td>1.0</td>\n",
       "      <td>1.0</td>\n",
       "      <td>1.0</td>\n",
       "      <td>...</td>\n",
       "      <td>1.0</td>\n",
       "      <td>1.0</td>\n",
       "      <td>1.0</td>\n",
       "      <td>1.0</td>\n",
       "      <td>1.0</td>\n",
       "      <td>0.0</td>\n",
       "      <td>0.0</td>\n",
       "      <td>0.0</td>\n",
       "      <td>0.0</td>\n",
       "      <td>0.0</td>\n",
       "    </tr>\n",
       "    <tr>\n",
       "      <th>1</th>\n",
       "      <td>59.0</td>\n",
       "      <td>72.0</td>\n",
       "      <td>71.0</td>\n",
       "      <td>69.0</td>\n",
       "      <td>70.0</td>\n",
       "      <td>57.0</td>\n",
       "      <td>69.0</td>\n",
       "      <td>61.0</td>\n",
       "      <td>65.0</td>\n",
       "      <td>74.0</td>\n",
       "      <td>...</td>\n",
       "      <td>71.0</td>\n",
       "      <td>70.0</td>\n",
       "      <td>73.0</td>\n",
       "      <td>68.0</td>\n",
       "      <td>68.0</td>\n",
       "      <td>62.0</td>\n",
       "      <td>62.0</td>\n",
       "      <td>59.0</td>\n",
       "      <td>75.0</td>\n",
       "      <td>77.0</td>\n",
       "    </tr>\n",
       "    <tr>\n",
       "      <th>2</th>\n",
       "      <td>52.0</td>\n",
       "      <td>62.0</td>\n",
       "      <td>62.0</td>\n",
       "      <td>71.0</td>\n",
       "      <td>66.0</td>\n",
       "      <td>69.0</td>\n",
       "      <td>66.0</td>\n",
       "      <td>60.0</td>\n",
       "      <td>62.0</td>\n",
       "      <td>73.0</td>\n",
       "      <td>...</td>\n",
       "      <td>75.0</td>\n",
       "      <td>66.0</td>\n",
       "      <td>76.0</td>\n",
       "      <td>76.0</td>\n",
       "      <td>64.0</td>\n",
       "      <td>67.0</td>\n",
       "      <td>67.0</td>\n",
       "      <td>68.0</td>\n",
       "      <td>75.0</td>\n",
       "      <td>79.0</td>\n",
       "    </tr>\n",
       "    <tr>\n",
       "      <th>3</th>\n",
       "      <td>70.0</td>\n",
       "      <td>69.0</td>\n",
       "      <td>70.0</td>\n",
       "      <td>70.0</td>\n",
       "      <td>61.0</td>\n",
       "      <td>68.0</td>\n",
       "      <td>62.0</td>\n",
       "      <td>60.0</td>\n",
       "      <td>67.0</td>\n",
       "      <td>72.0</td>\n",
       "      <td>...</td>\n",
       "      <td>76.0</td>\n",
       "      <td>66.0</td>\n",
       "      <td>68.0</td>\n",
       "      <td>79.0</td>\n",
       "      <td>65.0</td>\n",
       "      <td>64.0</td>\n",
       "      <td>68.0</td>\n",
       "      <td>69.0</td>\n",
       "      <td>70.0</td>\n",
       "      <td>79.0</td>\n",
       "    </tr>\n",
       "    <tr>\n",
       "      <th>4</th>\n",
       "      <td>67.0</td>\n",
       "      <td>67.0</td>\n",
       "      <td>64.0</td>\n",
       "      <td>78.0</td>\n",
       "      <td>66.0</td>\n",
       "      <td>75.0</td>\n",
       "      <td>75.0</td>\n",
       "      <td>62.0</td>\n",
       "      <td>68.0</td>\n",
       "      <td>79.0</td>\n",
       "      <td>...</td>\n",
       "      <td>74.0</td>\n",
       "      <td>68.0</td>\n",
       "      <td>74.0</td>\n",
       "      <td>78.0</td>\n",
       "      <td>68.0</td>\n",
       "      <td>70.0</td>\n",
       "      <td>70.0</td>\n",
       "      <td>67.0</td>\n",
       "      <td>77.0</td>\n",
       "      <td>77.0</td>\n",
       "    </tr>\n",
       "  </tbody>\n",
       "</table>\n",
       "<p>5 rows × 45 columns</p>\n",
       "</div>"
      ],
      "text/plain": [
       "   OVERALL_DIAGNOSIS   F1R   F1S   F2R   F2S   F3R   F3S   F4R   F4S   F5R  \\\n",
       "0                1.0   1.0   1.0   1.0   1.0   1.0   1.0   1.0   1.0   1.0   \n",
       "1               59.0  72.0  71.0  69.0  70.0  57.0  69.0  61.0  65.0  74.0   \n",
       "2               52.0  62.0  62.0  71.0  66.0  69.0  66.0  60.0  62.0  73.0   \n",
       "3               70.0  69.0  70.0  70.0  61.0  68.0  62.0  60.0  67.0  72.0   \n",
       "4               67.0  67.0  64.0  78.0  66.0  75.0  75.0  62.0  68.0  79.0   \n",
       "\n",
       "   ...  F18R  F18S  F19R  F19S  F20R  F20S  F21R  F21S  F22R  F22S  \n",
       "0  ...   1.0   1.0   1.0   1.0   1.0   0.0   0.0   0.0   0.0   0.0  \n",
       "1  ...  71.0  70.0  73.0  68.0  68.0  62.0  62.0  59.0  75.0  77.0  \n",
       "2  ...  75.0  66.0  76.0  76.0  64.0  67.0  67.0  68.0  75.0  79.0  \n",
       "3  ...  76.0  66.0  68.0  79.0  65.0  64.0  68.0  69.0  70.0  79.0  \n",
       "4  ...  74.0  68.0  74.0  78.0  68.0  70.0  70.0  67.0  77.0  77.0  \n",
       "\n",
       "[5 rows x 45 columns]"
      ]
     },
     "execution_count": 6,
     "metadata": {},
     "output_type": "execute_result"
    }
   ],
   "source": [
    "data_dict = {col_name: data for col_name, data in zip(columns,data_array)}\n",
    "data = pd.DataFrame.from_dict(data_dict)\n",
    "data.head()"
   ]
  },
  {
   "cell_type": "code",
   "execution_count": 7,
   "id": "f725786e-4571-4975-aa76-bfaf811be615",
   "metadata": {},
   "outputs": [],
   "source": [
    "X,y = data.iloc[:,1:],data.iloc[:,0]"
   ]
  },
  {
   "cell_type": "markdown",
   "id": "aaf63546-4158-4ab4-8ac7-23cfaba312dc",
   "metadata": {},
   "source": [
    "### Ranked Algorithm"
   ]
  },
  {
   "cell_type": "code",
   "execution_count": 8,
   "id": "2cff0047-e950-4ae3-995d-23d69332d39e",
   "metadata": {},
   "outputs": [],
   "source": [
    "# Mutual Infomation\n",
    "from sklearn.feature_selection import mutual_info_classif as MI\n",
    "from sklearn.feature_selection import chi2 as CS\n",
    "from ReliefF import ReliefF"
   ]
  },
  {
   "cell_type": "code",
   "execution_count": 9,
   "id": "2fb97a68-b666-4497-b3dc-01b10fae44ed",
   "metadata": {},
   "outputs": [],
   "source": [
    "def XVariance(X,y,top_m):\n",
    "    X_=X[:].apply(pd.to_numeric, errors='coerce')\n",
    "    #X_var.dtypes\n",
    "    X_var = (X_).var()\n",
    "    #print (X_var)\n",
    "    Y_ = y[:].apply(pd.to_numeric, errors='coerce')\n",
    "    Y_var=Y_.var()\n",
    "    D = X_var + Y_var\n",
    "    DL=D.nlargest(n=top_m)\n",
    "    return np.array(DL.index)"
   ]
  },
  {
   "cell_type": "markdown",
   "id": "2a7e8135-c9be-456e-a61b-cb23e50ae475",
   "metadata": {
    "tags": []
   },
   "source": [
    "### Articture"
   ]
  },
  {
   "cell_type": "markdown",
   "id": "72f825bf-68ae-4d46-8591-270af167b5ee",
   "metadata": {},
   "source": [
    "<img src=\"Assets/articture.png\" alt=\"drawing\" style=\"width:500px;\"/>\n"
   ]
  },
  {
   "cell_type": "markdown",
   "id": "81ff2075-206a-4387-be73-cdc3fedcb3ab",
   "metadata": {},
   "source": [
    " We'll start by buolding diffrent phases sequentially"
   ]
  },
  {
   "cell_type": "markdown",
   "id": "b3a5178b-be8b-448f-a38c-9d1bf9eb67c0",
   "metadata": {},
   "source": [
    "### PHASE 1"
   ]
  },
  {
   "cell_type": "code",
   "execution_count": 10,
   "id": "366de708-786e-4264-8ae1-478a5a720ef1",
   "metadata": {},
   "outputs": [],
   "source": [
    "from sklearn.feature_selection import mutual_info_classif as MI\n",
    "from sklearn.feature_selection import chi2 as CS\n",
    "from ReliefF import ReliefF"
   ]
  },
  {
   "cell_type": "code",
   "execution_count": 11,
   "id": "6535ca77-9653-471c-a8be-d9ff5f9b7c7a",
   "metadata": {},
   "outputs": [],
   "source": [
    "def score_to_feature_name(columns_name,score):\n",
    "    score = list(zip(columns_name,score))\n",
    "    score = sorted(score, key=cmp_to_key(lambda item1,item2: item2[1]-item1[1]))\n",
    "    return score"
   ]
  },
  {
   "cell_type": "code",
   "execution_count": 12,
   "id": "b863562a-7f76-477d-b2b6-e65b272ea263",
   "metadata": {},
   "outputs": [],
   "source": [
    "# Get mutual information\n",
    "mi_top_m = [feature for feature, score in score_to_feature_name(X.columns,MI(X,y))[-NUM_M:]]\n",
    "# Get Chi Square \n",
    "cs_top_m = [feature for feature, score in score_to_feature_name(X.columns,CS(X,y)[1])[-NUM_M:]]\n",
    "# Get Xvariance \n",
    "cs_top_m = XVariance(X,y,NUM_M)\n",
    "# Get RFF \n",
    "relief_data = ReliefF(n_neighbors=20, n_features_to_keep=NUM_M).fit_transform(X.values,y.values)\n",
    "rff_top_m = []\n",
    "for col_name in X.columns:\n",
    "    col_vector = X[col_name]\n",
    "    for rff_vector in relief_data.T:\n",
    "        if np.all(col_vector==rff_vector):\n",
    "            rff_top_m.append(col_name)\n",
    "            break;\n",
    "# Union-set \n",
    "features_selected = set([*mi_top_m,*cs_top_m,*rff_top_m,*cs_top_m])"
   ]
  },
  {
   "cell_type": "code",
   "execution_count": 13,
   "id": "ab87e9e2-2c87-4f80-a264-32858d3d3751",
   "metadata": {},
   "outputs": [],
   "source": [
    "def activate_model_on_features(features,X,y,model_class,model_kwargs):\n",
    "    score_vector = np.zeros(X.shape[0])\n",
    "    for idx, feature in enumerate(features):\n",
    "        train = X[feature].to_numpy().reshape(1,-1).T\n",
    "        test = y\n",
    "        model = model_class(**model_kwargs).fit(train, test)\n",
    "        score_vector[idx] = model.score(train,test)\n",
    "    return score_vector"
   ]
  },
  {
   "cell_type": "code",
   "execution_count": 14,
   "id": "e53e2e3b-a7da-48a3-9d2d-edf9fd0d5c09",
   "metadata": {},
   "outputs": [],
   "source": [
    "def score_knn_nb_svm(features_set,X,y):\n",
    "    score = activate_model_on_features(features_set,X,y,KNeighborsClassifier,{'n_neighbors':4})\n",
    "    score += activate_model_on_features(features_set,X,y,SVC,{'gamma':'auto'})\n",
    "    score += activate_model_on_features(features_set,X,y,CategoricalNB,{})\n",
    "    return score"
   ]
  },
  {
   "cell_type": "code",
   "execution_count": 34,
   "id": "249aea68-707a-445d-be2b-da89e2ecd314",
   "metadata": {},
   "outputs": [],
   "source": [
    "def get_xgb_top_k(top_k_features, X, y):\n",
    "    xgboost = GradientBoostingClassifier(n_estimators=100, learning_rate=1.0,max_depth=1, random_state=0).fit(X, y)\n",
    "    prev_accrucy = 0.\n",
    "    for idx in range(len(top_k_features)):\n",
    "        k_selected_feature_names = top_k_features[:idx+1]\n",
    "        data = X.loc[:,k_selected_feature_names]\n",
    "        current_accrucy = xgboost.fit(data,y).score(data,y)\n",
    "        if len(k_selected_feature_names) >= NUM_J:\n",
    "            break\n",
    "    return top_k_features[:idx]"
   ]
  },
  {
   "cell_type": "code",
   "execution_count": 36,
   "id": "a7851500-2c65-430b-916b-922805f1cc13",
   "metadata": {},
   "outputs": [],
   "source": [
    "score = score_knn_nb_svm(features_selected,X,y)\n",
    "top_k_features = [feature for feature, score in set(score_to_feature_name(X.columns,score))]\n",
    "top_k_features = get_xgb_top_k(top_k_features,X,y)\n"
   ]
  },
  {
   "cell_type": "markdown",
   "id": "d0c0419a-70c7-409f-89e1-5e913fcd774d",
   "metadata": {},
   "source": [
    "### PHASE 2"
   ]
  },
  {
   "cell_type": "code",
   "execution_count": 37,
   "id": "1e97f730-87ed-4cc7-8167-9fc0c2ed2560",
   "metadata": {},
   "outputs": [],
   "source": [
    "from sklearn.feature_selection import r_regression as PCC"
   ]
  },
  {
   "cell_type": "code",
   "execution_count": 38,
   "id": "0725e507-6964-40ee-96b9-e89974352e72",
   "metadata": {},
   "outputs": [
    {
     "name": "stdout",
     "output_type": "stream",
     "text": [
      "['F17R', 'F1S', 'F9R', 'F11R', 'F8S', 'F22R', 'F5R', 'F6R', 'F19R', 'F7R', 'F13S', 'F4R', 'F16R', 'F12R', 'F7S', 'F19S', 'F21R', 'F21S', 'F8R', 'F3S', 'F5S', 'F1R']\n"
     ]
    }
   ],
   "source": [
    "rmv_set = set()\n",
    "seen_set = set()\n",
    "class_val = y.to_numpy().reshape(1,-1).ravel()\n",
    "for  _to, val1 in enumerate(top_k_features):\n",
    "    if val1 in seen_set:\n",
    "        continue\n",
    "    for val2 in top_k_features[:_to+1]:\n",
    "        if val2 in seen_set or val2 in rmv_set:\n",
    "            continue\n",
    "        val1_data = X[val1].to_numpy().reshape(1,-1).T\n",
    "        val2_data = X[val2].to_numpy()\n",
    "        if abs(int(PCC(val1_data,val2_data))) >= MAX_R:\n",
    "            val2_data = val2_data.reshape(1,-1).T\n",
    "            rmv_val = val1 if abs(int(PCC(val1_data,class_val))) > abs(int(PCC(val2_data,class_val))) else val2\n",
    "            rmv_set.add(rmv_val)\n",
    "        seen_set.add(val2)\n",
    "    seen_set.add(val1)\n",
    "print(top_k_features)\n",
    "uncorrelated_k = set(top_k_features)-rmv_set"
   ]
  },
  {
   "cell_type": "code",
   "execution_count": 39,
   "id": "186675df-b3a4-478f-a9ed-22ba58a55894",
   "metadata": {},
   "outputs": [],
   "source": [
    "top_j_features = get_xgb_top_k(list(uncorrelated_k),X,y)"
   ]
  },
  {
   "cell_type": "markdown",
   "id": "a1f82866-baac-47ba-a1c7-72d07db866cb",
   "metadata": {},
   "source": [
    "### PHASE 3"
   ]
  },
  {
   "cell_type": "markdown",
   "id": "2495ad8e-b493-4dec-892f-dc8e661a67a3",
   "metadata": {},
   "source": [
    "<img src=\"Assets/WOA.png\" alt=\"drawing\" style=\"width:500px;\"/>"
   ]
  },
  {
   "cell_type": "code",
   "execution_count": 40,
   "id": "8c25bff2-2bb3-4304-b2b6-eea0fbdefe03",
   "metadata": {},
   "outputs": [],
   "source": [
    "class WOA:\n",
    "\n",
    "    def __init__(self, fitness_func, limit, population_n,sol_dim, seed,max_type=True):\n",
    "        self._fitness_func = fitness_func\n",
    "        self._limit = limit\n",
    "        self._population_n = population_n\n",
    "        self._sol_dim = sol_dim\n",
    "        self._max_type = max_type\n",
    "        np.random.seed(seed)\n",
    "        self.rnd = random.Random(seed)\n",
    "    \n",
    "    def _init_population(self):\n",
    "        self._population = np.random.uniform(self._limit[0],self._limit[1],size=(self._population_n,self._sol_dim))\n",
    "\n",
    "    def _get_best_sol_index(self):\n",
    "        after_fitness = np.array(list(map(self._fitness_func,self._population)))\n",
    "        return np.argmax(after_fitness) if self._max_type else np.argmin(after_fitness)\n",
    "\n",
    "    def run(self,max_iter=20):\n",
    "        self._init_population()\n",
    "        min_bound = np.array([self._limit[0]]*self._sol_dim,dtype=np.float32)\n",
    "        max_bound = np.array([self._limit[1]]*self._sol_dim,dtype=np.float32)\n",
    "        for p in range(max_iter):\n",
    "            x_star_index = self._get_best_sol_index()\n",
    "            x_star = np.copy(self._population[x_star_index])\n",
    "            s = 2 * (1 - p / max_iter)\n",
    "            s2 = -1 + p *(-1/max_iter)\n",
    "            b = 1\n",
    "            l = (s2-1)*self.rnd.random()+1;\n",
    "            for idx,X in enumerate(self._population):\n",
    "                V = self.rnd.random()\n",
    "                K = 2 * s * V - s\n",
    "                J = 2 * V\n",
    "                t = self.rnd.random()\n",
    "                B = abs(J*x_star-X)\n",
    "                if t < .5:\n",
    "                    if abs(K) < 1:\n",
    "                        self._population[idx] = x_star - K*B\n",
    "                    else:\n",
    "                        option_lst = set([idx for idx in range(self._population_n)]) - {p}\n",
    "                        xr = random.choice(list(option_lst))\n",
    "                        self._population[idx] = xr-K*B\n",
    "                else:\n",
    "                    self._population[idx] = x_star + B * math.exp(b * l) * math.cos(2 * math.pi * l)\n",
    "                # Make sure all value in bound range\n",
    "                self._population[idx] = np.maximum(min_bound,self._population[idx])\n",
    "                self._population[idx] = np.minimum(max_bound,self._population[idx])\n",
    "        return np.rint(x_star).astype(int)"
   ]
  },
  {
   "cell_type": "code",
   "execution_count": 41,
   "id": "c39cae77-a667-4256-ab05-d96ff4ac7f55",
   "metadata": {},
   "outputs": [],
   "source": [
    "feature_mapper = {idx:name for idx,name in enumerate(X.columns)}"
   ]
  },
  {
   "cell_type": "code",
   "execution_count": 42,
   "id": "e1354d17-b3ef-4406-b089-2752e9273eca",
   "metadata": {},
   "outputs": [],
   "source": [
    "def get_features_by_bit_vector(vector,feature_mapper):\n",
    "    feature_vec = []\n",
    "    for idx,val in enumerate(vector):\n",
    "        if val >= 0.5:\n",
    "            feature_vec.append(feature_mapper[idx])\n",
    "    return np.array(feature_vec)"
   ]
  },
  {
   "cell_type": "code",
   "execution_count": 43,
   "id": "7cdb3a1c-93b9-437b-ac89-5fae94fda266",
   "metadata": {},
   "outputs": [],
   "source": [
    "def paper_fitness(sol):\n",
    "    C = len(sol)\n",
    "    acc_rate = 0\n",
    "    R = len(sol[sol >= 0.5])\n",
    "    if R > 0 : \n",
    "        sol_features = get_features_by_bit_vector(sol,feature_mapper)\n",
    "        train = X.loc[:,sol_features].to_numpy()\n",
    "        acc_rate += KNeighborsClassifier(n_neighbors=3).fit(train,y).score(train,y)\n",
    "    feature_part = BETA * (C-R / C)\n",
    "    score_gamma = acc_rate * ALPAH\n",
    "    return score_gamma + feature_part\n",
    "    "
   ]
  },
  {
   "cell_type": "code",
   "execution_count": 44,
   "id": "044dad15-92cb-4876-a5bd-fdf3c97ad7ad",
   "metadata": {},
   "outputs": [
    {
     "name": "stdout",
     "output_type": "stream",
     "text": [
      " Whale size: 4\n"
     ]
    }
   ],
   "source": [
    "sol_len = len(top_j_features)\n",
    "print(f\" Whale size: {sol_len}\")\n",
    "woa = WOA(paper_fitness, [0,1], POPULATION_NUMBER, sol_len, 123,max_type=True)"
   ]
  },
  {
   "cell_type": "code",
   "execution_count": 45,
   "id": "7ab1f479-de52-4c81-9a13-3c0fde00bb7a",
   "metadata": {},
   "outputs": [],
   "source": [
    "solution = woa.run()"
   ]
  },
  {
   "cell_type": "code",
   "execution_count": 46,
   "id": "b733d5eb-abad-4b0f-888a-3d219cb0c892",
   "metadata": {},
   "outputs": [
    {
     "data": {
      "text/plain": [
       "array(['F2R', 'F2S'], dtype='<U3')"
      ]
     },
     "execution_count": 46,
     "metadata": {},
     "output_type": "execute_result"
    }
   ],
   "source": [
    "best_features = get_features_by_bit_vector(solution,feature_mapper)\n",
    "best_features"
   ]
  },
  {
   "cell_type": "code",
   "execution_count": null,
   "id": "a3239666-0436-4681-970f-4d999ca88ac1",
   "metadata": {},
   "outputs": [],
   "source": []
  },
  {
   "cell_type": "code",
   "execution_count": null,
   "id": "c23f6cb7-dc97-41a9-8164-9c68f39987f4",
   "metadata": {},
   "outputs": [],
   "source": []
  }
 ],
 "metadata": {
  "kernelspec": {
   "display_name": "Python 3 (ipykernel)",
   "language": "python",
   "name": "python3"
  },
  "language_info": {
   "codemirror_mode": {
    "name": "ipython",
    "version": 3
   },
   "file_extension": ".py",
   "mimetype": "text/x-python",
   "name": "python",
   "nbconvert_exporter": "python",
   "pygments_lexer": "ipython3",
   "version": "3.9.7"
  }
 },
 "nbformat": 4,
 "nbformat_minor": 5
}
